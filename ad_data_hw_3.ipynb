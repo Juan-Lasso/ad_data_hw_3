{
 "cells": [
  {
   "cell_type": "code",
   "execution_count": 10,
   "id": "605c832c-810e-4d9f-82e7-25a488ce48ac",
   "metadata": {},
   "outputs": [],
   "source": [
    "#Q1 We are creating a list with the keywords included\n",
    "search_terms  = [\"improper touching\", \"self-medication\", \"self-prescribing\", \"opioid addiction\", \"harassment\", \"coercion\", \"sexual harrassment\", \"sex\", \"sexual favor\", \"abuse of trust\", \"opioid prescriptions in return for sex\"]"
   ]
  },
  {
   "cell_type": "code",
   "execution_count": 12,
   "id": "cb51ba08-1b33-4978-a053-5c908ada4733",
   "metadata": {},
   "outputs": [
    {
     "name": "stdout",
     "output_type": "stream",
     "text": [
      "['improper touching', 'self-medication', 'self-prescribing', 'opioid addiction', 'harassment', 'coercion', 'sexual harrassment', 'sex', 'sexual favor', 'abuse of trust', 'opioid prescriptions in return for sex']\n"
     ]
    }
   ],
   "source": [
    "print(search_terms)"
   ]
  },
  {
   "cell_type": "code",
   "execution_count": 18,
   "id": "8e4c91b7-7f63-4eec-993f-6b6ec10b82f2",
   "metadata": {},
   "outputs": [
    {
     "data": {
      "text/plain": [
       "list"
      ]
     },
     "execution_count": 18,
     "metadata": {},
     "output_type": "execute_result"
    }
   ],
   "source": [
    "#Q2 What type of data object is search_terms?\n",
    "type(search_terms)"
   ]
  },
  {
   "cell_type": "code",
   "execution_count": 20,
   "id": "4a2a4070-4eb4-4855-86c6-0244d7813c4f",
   "metadata": {},
   "outputs": [
    {
     "data": {
      "text/plain": [
       "11"
      ]
     },
     "execution_count": 20,
     "metadata": {},
     "output_type": "execute_result"
    }
   ],
   "source": [
    "#Q3 How long is this list?\n",
    "len(search_terms)"
   ]
  },
  {
   "cell_type": "code",
   "execution_count": 22,
   "id": "2c8236ae-da93-4c79-8820-4fc4c00b7c77",
   "metadata": {},
   "outputs": [],
   "source": [
    "#Q4 Let's create dictionaries for each donation \n",
    "donation_a = {\"year\": \"2017\", \n",
    "              \"donor\": \"David H Koch Charitable Foundation\",\n",
    "              \"grantee\": \"City Center For Music And Drama\", \n",
    "              \"amount\": \"$15_000_000\"} "
   ]
  },
  {
   "cell_type": "code",
   "execution_count": 24,
   "id": "94343457-6863-49e1-bd4c-cee303ba498b",
   "metadata": {},
   "outputs": [
    {
     "data": {
      "text/plain": [
       "{'year': '2017',\n",
       " 'donor': 'David H Koch Charitable Foundation',\n",
       " 'grantee': 'City Center For Music And Drama',\n",
       " 'amount': '$15_000_000'}"
      ]
     },
     "execution_count": 24,
     "metadata": {},
     "output_type": "execute_result"
    }
   ],
   "source": [
    "donation_a"
   ]
  },
  {
   "cell_type": "code",
   "execution_count": 28,
   "id": "aac9fac4-3e87-4e51-88cc-dbc55a59d46d",
   "metadata": {},
   "outputs": [],
   "source": [
    "donation_b = {\"year\": \"2013\", \n",
    "              \"donor\": \"Bradley Impact Fund Inc\",\n",
    "              \"grantee\": \"Young Americas Foundation\", \n",
    "              \"amount\": \"$11_000\"} "
   ]
  },
  {
   "cell_type": "code",
   "execution_count": 30,
   "id": "dd1018df-f9aa-4bcf-8e82-538441151784",
   "metadata": {},
   "outputs": [
    {
     "data": {
      "text/plain": [
       "{'year': '2013',\n",
       " 'donor': 'Bradley Impact Fund Inc',\n",
       " 'grantee': 'Young Americas Foundation',\n",
       " 'amount': '$11_000'}"
      ]
     },
     "execution_count": 30,
     "metadata": {},
     "output_type": "execute_result"
    }
   ],
   "source": [
    "donation_b"
   ]
  },
  {
   "cell_type": "code",
   "execution_count": 32,
   "id": "49ffc862-bc47-4566-b253-393a47a32c79",
   "metadata": {},
   "outputs": [],
   "source": [
    "donation_c = {\"year\": \"2016\", \n",
    "              \"donor\": \"Mercer Family Foundation\",\n",
    "              \"grantee\": \"The Becket Fund\", \n",
    "              \"amount\": \"$250_000\"}"
   ]
  },
  {
   "cell_type": "code",
   "execution_count": 34,
   "id": "4f72bbe8-7893-4ead-bd62-9ba786fbda2b",
   "metadata": {},
   "outputs": [
    {
     "data": {
      "text/plain": [
       "{'year': '2016',\n",
       " 'donor': 'Mercer Family Foundation',\n",
       " 'grantee': 'The Becket Fund',\n",
       " 'amount': '$250_000'}"
      ]
     },
     "execution_count": 34,
     "metadata": {},
     "output_type": "execute_result"
    }
   ],
   "source": [
    "donation_c"
   ]
  },
  {
   "cell_type": "code",
   "execution_count": 36,
   "id": "2ebb3857-ccab-4ea0-888d-36c819376b26",
   "metadata": {},
   "outputs": [],
   "source": [
    "donation_d = {\"year\": \"2012\", \n",
    "              \"donor\": \"Charles Kovh Foundation\",\n",
    "              \"grantee\": \"The Phillips\", \n",
    "              \"amount\": \"$25_000\"}"
   ]
  },
  {
   "cell_type": "code",
   "execution_count": 38,
   "id": "e177eed2-a5ea-49bd-9f03-99b6d2b270fb",
   "metadata": {},
   "outputs": [
    {
     "data": {
      "text/plain": [
       "{'year': '2012',\n",
       " 'donor': 'Charles Kovh Foundation',\n",
       " 'grantee': 'The Phillips',\n",
       " 'amount': '$25_000'}"
      ]
     },
     "execution_count": 38,
     "metadata": {},
     "output_type": "execute_result"
    }
   ],
   "source": [
    "donation_d"
   ]
  },
  {
   "cell_type": "code",
   "execution_count": 40,
   "id": "6e1fd7d9-54dd-491f-a99e-3534ecda3372",
   "metadata": {},
   "outputs": [],
   "source": [
    "donation_e = {\"year\": \"2017\", \n",
    "              \"donor\": \"Barbara And Barre Seid Foundation\",\n",
    "              \"grantee\": \"Boy Scouts of America\", \n",
    "              \"amount\": \"$2_634_600\"}\n",
    "    "
   ]
  },
  {
   "cell_type": "code",
   "execution_count": 42,
   "id": "87d918f4-3c0b-42b8-b147-ad7f64175e28",
   "metadata": {},
   "outputs": [
    {
     "data": {
      "text/plain": [
       "{'year': '2017',\n",
       " 'donor': 'Barbara And Barre Seid Foundation',\n",
       " 'grantee': 'Boy Scouts of America',\n",
       " 'amount': '$2_634_600'}"
      ]
     },
     "execution_count": 42,
     "metadata": {},
     "output_type": "execute_result"
    }
   ],
   "source": [
    "donation_e"
   ]
  },
  {
   "cell_type": "code",
   "execution_count": 44,
   "id": "29af98be-1784-456f-a238-e935c5292baf",
   "metadata": {},
   "outputs": [],
   "source": [
    "donations = [donation_a, donation_b, donation_c, donation_d, donation_e] "
   ]
  },
  {
   "cell_type": "code",
   "execution_count": 104,
   "id": "d9aa9426-d586-44a2-b893-e571ae5ab59a",
   "metadata": {},
   "outputs": [
    {
     "name": "stdout",
     "output_type": "stream",
     "text": [
      "[{'year': '2017', 'donor': 'David H Koch Charitable Foundation', 'grantee': 'City Center For Music And Drama', 'amount': '$15_000_000'}, {'year': '2013', 'donor': 'Bradley Impact Fund Inc', 'grantee': 'Young Americas Foundation', 'amount': '$11_000'}, {'year': '2016', 'donor': 'Mercer Family Foundation', 'grantee': 'The Becket Fund', 'amount': '$250_000'}, {'year': '2012', 'donor': 'Charles Kovh Foundation', 'grantee': 'The Phillips', 'amount': '$25_000'}, {'year': '2017', 'donor': 'Barbara And Barre Seid Foundation', 'grantee': 'Boy Scouts of America', 'amount': '$2_634_600'}]\n"
     ]
    }
   ],
   "source": [
    "#print the the list of donations\n",
    "print(donations)"
   ]
  },
  {
   "cell_type": "code",
   "execution_count": 108,
   "id": "59c619be-4800-4b28-9ac5-900aa4d86ecf",
   "metadata": {},
   "outputs": [
    {
     "data": {
      "text/plain": [
       "[{'year': '2017',\n",
       "  'donor': 'David H Koch Charitable Foundation',\n",
       "  'grantee': 'City Center For Music And Drama',\n",
       "  'amount': '$15_000_000'},\n",
       " {'year': '2013',\n",
       "  'donor': 'Bradley Impact Fund Inc',\n",
       "  'grantee': 'Young Americas Foundation',\n",
       "  'amount': '$11_000'},\n",
       " {'year': '2016',\n",
       "  'donor': 'Mercer Family Foundation',\n",
       "  'grantee': 'The Becket Fund',\n",
       "  'amount': '$250_000'},\n",
       " {'year': '2012',\n",
       "  'donor': 'Charles Kovh Foundation',\n",
       "  'grantee': 'The Phillips',\n",
       "  'amount': '$25_000'},\n",
       " {'year': '2017',\n",
       "  'donor': 'Barbara And Barre Seid Foundation',\n",
       "  'grantee': 'Boy Scouts of America',\n",
       "  'amount': '$2_634_600'}]"
      ]
     },
     "execution_count": 108,
     "metadata": {},
     "output_type": "execute_result"
    }
   ],
   "source": [
    "#call donations \n",
    "donations"
   ]
  },
  {
   "cell_type": "code",
   "execution_count": 48,
   "id": "d02c631d-fa09-4677-b86a-a2360d8bd0cd",
   "metadata": {},
   "outputs": [
    {
     "data": {
      "text/plain": [
       "5"
      ]
     },
     "execution_count": 48,
     "metadata": {},
     "output_type": "execute_result"
    }
   ],
   "source": [
    "#how many items are in this list\n",
    "len(donations)"
   ]
  },
  {
   "cell_type": "code",
   "execution_count": 50,
   "id": "636a8dbc-5cd9-430c-8465-9c367fc84bba",
   "metadata": {},
   "outputs": [],
   "source": [
    "disasters = [\n",
    "        \"Landslides\",\n",
    "        \"Earthquake\",\n",
    "        \"Wildfires\",\n",
    "        \"Tornadoes\",\n",
    "        \"Hurricane\",\n",
    "        \"Wind Storm\",\n",
    "        \"Winter Freeze\",\n",
    "        \"Ice Storm\",\n",
    "        \"Drought\",\n",
    "        \"Tsunami\",\n",
    "        \"Flash floods\",\n",
    "        \"Mudslides\",\n",
    "        \"Torrential rainfall\",\n",
    "        \"Riverine floods\",\n",
    "        \"Tidal Surge\"\n",
    "         ]"
   ]
  },
  {
   "cell_type": "code",
   "execution_count": 110,
   "id": "79802de5-a10f-4b8a-94e6-0f6e1b5b9ec0",
   "metadata": {},
   "outputs": [
    {
     "data": {
      "text/plain": [
       "['Landslides',\n",
       " 'Earthquake',\n",
       " 'Wildfires',\n",
       " 'Tornadoes',\n",
       " 'Hurricane',\n",
       " 'Wind Storm',\n",
       " 'Winter Freeze',\n",
       " 'Ice Storm',\n",
       " 'Drought',\n",
       " 'Tsunami',\n",
       " 'Flash floods',\n",
       " 'Mudslides',\n",
       " 'Torrential rainfall',\n",
       " 'Riverine floods',\n",
       " 'Tidal Surge']"
      ]
     },
     "execution_count": 110,
     "metadata": {},
     "output_type": "execute_result"
    }
   ],
   "source": [
    "#call the disaster list  here:\n",
    "disasters"
   ]
  },
  {
   "cell_type": "code",
   "execution_count": 80,
   "id": "bed391ca-42df-4c4f-9e2d-2f9a4a73fabb",
   "metadata": {},
   "outputs": [],
   "source": [
    "disaster_one = disasters[0]"
   ]
  },
  {
   "cell_type": "code",
   "execution_count": 82,
   "id": "81442c60-a4ef-4325-bcba-a31e0dd0b5c3",
   "metadata": {},
   "outputs": [
    {
     "data": {
      "text/plain": [
       "'Landslides'"
      ]
     },
     "execution_count": 82,
     "metadata": {},
     "output_type": "execute_result"
    }
   ],
   "source": [
    "#the first item in the list \n",
    "disaster_one"
   ]
  },
  {
   "cell_type": "code",
   "execution_count": 90,
   "id": "b071f951-cea0-4936-ba1a-80c9732f1b56",
   "metadata": {},
   "outputs": [],
   "source": [
    "disaster_penultimate = disasters[-2]"
   ]
  },
  {
   "cell_type": "code",
   "execution_count": 92,
   "id": "4a975aec-2a48-4068-8e2a-2dfa0a3aee9d",
   "metadata": {},
   "outputs": [
    {
     "data": {
      "text/plain": [
       "'Riverine floods'"
      ]
     },
     "execution_count": 92,
     "metadata": {},
     "output_type": "execute_result"
    }
   ],
   "source": [
    "## call the penultimate item \n",
    "disaster_penultimate"
   ]
  },
  {
   "cell_type": "code",
   "execution_count": 94,
   "id": "1af9a49f-56be-4b8d-a742-476b5c9d932c",
   "metadata": {},
   "outputs": [],
   "source": [
    "## create a new list called disasters_subset that holds the 3rd to 6th items inclusive \n",
    "disasters_subset = disasters[2:6]"
   ]
  },
  {
   "cell_type": "code",
   "execution_count": 96,
   "id": "60325890-724f-438b-b557-68670efae1ed",
   "metadata": {},
   "outputs": [
    {
     "data": {
      "text/plain": [
       "['Wildfires', 'Tornadoes', 'Hurricane', 'Wind Storm']"
      ]
     },
     "execution_count": 96,
     "metadata": {},
     "output_type": "execute_result"
    }
   ],
   "source": [
    "disasters_subset"
   ]
  },
  {
   "cell_type": "code",
   "execution_count": 102,
   "id": "4218f23e-8f39-4727-8df2-5f148ccdd3c6",
   "metadata": {},
   "outputs": [],
   "source": [
    "## create a new list called disasters_subset2 that holds the 2nd through 8th items\n",
    "disasters_subset2 = disasters[1:8]"
   ]
  },
  {
   "cell_type": "code",
   "execution_count": 100,
   "id": "05aa9efc-70d1-410d-af40-bf6201aaa5c3",
   "metadata": {},
   "outputs": [
    {
     "data": {
      "text/plain": [
       "['Earthquake',\n",
       " 'Wildfires',\n",
       " 'Tornadoes',\n",
       " 'Hurricane',\n",
       " 'Wind Storm',\n",
       " 'Winter Freeze',\n",
       " 'Ice Storm']"
      ]
     },
     "execution_count": 100,
     "metadata": {},
     "output_type": "execute_result"
    }
   ],
   "source": [
    "disasters_subset2"
   ]
  }
 ],
 "metadata": {
  "kernelspec": {
   "display_name": "Python [conda env:base] *",
   "language": "python",
   "name": "conda-base-py"
  },
  "language_info": {
   "codemirror_mode": {
    "name": "ipython",
    "version": 3
   },
   "file_extension": ".py",
   "mimetype": "text/x-python",
   "name": "python",
   "nbconvert_exporter": "python",
   "pygments_lexer": "ipython3",
   "version": "3.12.7"
  }
 },
 "nbformat": 4,
 "nbformat_minor": 5
}
